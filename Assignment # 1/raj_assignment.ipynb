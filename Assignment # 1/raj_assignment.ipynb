{
 "cells": [
  {
   "cell_type": "markdown",
   "metadata": {},
   "source": [
    "###  1.Write a python program to print the following string in a specified format.\n"
   ]
  },
  {
   "cell_type": "code",
   "execution_count": 60,
   "metadata": {},
   "outputs": [
    {
     "name": "stdout",
     "output_type": "stream",
     "text": [
      "\t\tTwinkle, twinkle, little star, \n",
      "\n",
      "\t\t\tHow I wonder what you are! \n",
      "\n",
      "\t\t\t\tUp above the world so high, \n",
      "\n",
      "\t\t\t\tLike a diamond in the sky. \n",
      "\n",
      "\t\tTwinkle, twinkle, little star, \n",
      "\n",
      "\t\t\tHow I wonder what you are!\n"
     ]
    }
   ],
   "source": [
    "print(\"\"\"\\t\\tTwinkle, twinkle, little star, \\n\n",
    "\\t\\t\\tHow I wonder what you are! \\n\n",
    "\\t\\t\\t\\tUp above the world so high, \\n\n",
    "\\t\\t\\t\\tLike a diamond in the sky. \\n\n",
    "\\t\\tTwinkle, twinkle, little star, \\n\n",
    "\\t\\t\\tHow I wonder what you are!\"\"\")"
   ]
  },
  {
   "cell_type": "markdown",
   "metadata": {},
   "source": [
    "### 2. Write a python program to get the Python version you are using."
   ]
  },
  {
   "cell_type": "code",
   "execution_count": 63,
   "metadata": {},
   "outputs": [
    {
     "name": "stdout",
     "output_type": "stream",
     "text": [
      "Python version\n",
      "3.8.5 (default, Sep  3 2020, 21:29:08) [MSC v.1916 64 bit (AMD64)]\n",
      "Version info.\n",
      "sys.version_info(major=3, minor=8, micro=5, releaselevel='final', serial=0)\n"
     ]
    }
   ],
   "source": [
    "import sys\n",
    "print(\"Python version\")\n",
    "print (sys.version)\n",
    "print(\"Version info.\")\n",
    "print (sys.version_info)"
   ]
  },
  {
   "cell_type": "markdown",
   "metadata": {},
   "source": [
    "### 3. Write a python program to display the current date and time."
   ]
  },
  {
   "cell_type": "code",
   "execution_count": 69,
   "metadata": {},
   "outputs": [
    {
     "name": "stdout",
     "output_type": "stream",
     "text": [
      "2021-12-31 19:42:10.752840\n"
     ]
    }
   ],
   "source": [
    "import datetime\n",
    "x=datetime.datetime.now()\n",
    "print(x)"
   ]
  },
  {
   "cell_type": "markdown",
   "metadata": {},
   "source": [
    "### 4. Write a python program  which accepts the radius of circle from the user and compute the area."
   ]
  },
  {
   "cell_type": "code",
   "execution_count": 72,
   "metadata": {},
   "outputs": [
    {
     "name": "stdout",
     "output_type": "stream",
     "text": [
      "Input the radius of circle : 2\n",
      "The area of circle with radius 2.0 is: 12.566370614359172\n"
     ]
    }
   ],
   "source": [
    "from math import pi\n",
    "a = float(input (\"Input the radius of circle : \"))\n",
    "print (\"The area of circle with radius \" + str(a) + \" is: \" + str(pi * r**2))"
   ]
  },
  {
   "cell_type": "markdown",
   "metadata": {},
   "source": [
    "### 5. Write a python program which accepts the user's first and last name and print them in reverse order with a space between them.\n"
   ]
  },
  {
   "cell_type": "code",
   "execution_count": 76,
   "metadata": {},
   "outputs": [
    {
     "name": "stdout",
     "output_type": "stream",
     "text": [
      "Input your First Name : blue\n",
      "Input your Last Name : red\n",
      "red blue\n"
     ]
    }
   ],
   "source": [
    "fname = input(\"Input your First Name : \")\n",
    "lname = input(\"Input your Last Name : \")\n",
    "print (lname + \" \" + fname)"
   ]
  },
  {
   "cell_type": "markdown",
   "metadata": {},
   "source": [
    "### 6. Write a python program which takes two inputs from user and print them addition."
   ]
  },
  {
   "cell_type": "code",
   "execution_count": 80,
   "metadata": {},
   "outputs": [
    {
     "name": "stdout",
     "output_type": "stream",
     "text": [
      "Enter first number 2\n",
      "Enter second number 3\n",
      "after addition your answer is 5\n"
     ]
    }
   ],
   "source": [
    "a=int(input(\"Enter first number \"))\n",
    "b=int(input(\"Enter second number \"))\n",
    "c=a+b\n",
    "print(\"after addition your answer is {}\".format(c))"
   ]
  },
  {
   "cell_type": "code",
   "execution_count": null,
   "metadata": {},
   "outputs": [],
   "source": []
  }
 ],
 "metadata": {
  "kernelspec": {
   "display_name": "Python 3",
   "language": "python",
   "name": "python3"
  },
  "language_info": {
   "codemirror_mode": {
    "name": "ipython",
    "version": 3
   },
   "file_extension": ".py",
   "mimetype": "text/x-python",
   "name": "python",
   "nbconvert_exporter": "python",
   "pygments_lexer": "ipython3",
   "version": "3.8.5"
  }
 },
 "nbformat": 4,
 "nbformat_minor": 4
}
